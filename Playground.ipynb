{
 "cells": [
  {
   "cell_type": "code",
   "execution_count": 54,
   "metadata": {
    "collapsed": false
   },
   "outputs": [],
   "source": [
    "import tensorflow as tf\n",
    "import SimpleITK as sitk\n",
    "import numpy as np\n",
    "import csv\n",
    "import os"
   ]
  },
  {
   "cell_type": "code",
   "execution_count": 2,
   "metadata": {
    "collapsed": false
   },
   "outputs": [
    {
     "name": "stdout",
     "output_type": "stream",
     "text": [
      "[[ 22.  28.]\n",
      " [ 49.  64.]]\n"
     ]
    }
   ],
   "source": [
    "# Creates a graph.\n",
    "a = tf.constant([1.0, 2.0, 3.0, 4.0, 5.0, 6.0], shape=[2, 3], name='a')\n",
    "b = tf.constant([1.0, 2.0, 3.0, 4.0, 5.0, 6.0], shape=[3, 2], name='b')\n",
    "c = tf.matmul(a, b)\n",
    "# Creates a session with log_device_placement set to True.\n",
    "sess = tf.Session(config=tf.ConfigProto(log_device_placement=True))\n",
    "# Runs the op.\n",
    "print(sess.run(c))"
   ]
  },
  {
   "cell_type": "code",
   "execution_count": 64,
   "metadata": {
    "collapsed": false
   },
   "outputs": [
    {
     "name": "stdout",
     "output_type": "stream",
     "text": [
      "Image (0x3aebad0)\n",
      "  RTTI typeinfo:   itk::Image<int, 3u>\n",
      "  Reference Count: 1\n",
      "  Modified Time: 323742\n",
      "  Debug: Off\n",
      "  Object Name: \n",
      "  Observers: \n",
      "    none\n",
      "  Source: (none)\n",
      "  Source output name: (none)\n",
      "  Release Data: Off\n",
      "  Data Released: False\n",
      "  Global Release Data: Off\n",
      "  PipelineMTime: 303841\n",
      "  UpdateMTime: 323741\n",
      "  RealTimeStamp: 0 seconds \n",
      "  LargestPossibleRegion: \n",
      "    Dimension: 3\n",
      "    Index: [0, 0, 0]\n",
      "    Size: [512, 512, 601]\n",
      "  BufferedRegion: \n",
      "    Dimension: 3\n",
      "    Index: [0, 0, 0]\n",
      "    Size: [512, 512, 601]\n",
      "  RequestedRegion: \n",
      "    Dimension: 3\n",
      "    Index: [0, 0, 0]\n",
      "    Size: [512, 512, 601]\n",
      "  Spacing: [0.621094, 0.621094, 0.5]\n",
      "  Origin: [-170.1, -135.2, -318.75]\n",
      "  Direction: \n",
      "1 0 0\n",
      "0 1 0\n",
      "0 0 1\n",
      "\n",
      "  IndexToPointMatrix: \n",
      "0.621094 0 0\n",
      "0 0.621094 0\n",
      "0 0 0.5\n",
      "\n",
      "  PointToIndexMatrix: \n",
      "1.61006 0 0\n",
      "0 1.61006 0\n",
      "0 0 2\n",
      "\n",
      "  Inverse Direction: \n",
      "1 0 0\n",
      "0 1 0\n",
      "0 0 1\n",
      "\n",
      "  PixelContainer: \n",
      "    ImportImageContainer (0x3aebdb0)\n",
      "      RTTI typeinfo:   itk::ImportImageContainer<unsigned long, int>\n",
      "      Reference Count: 1\n",
      "      Modified Time: 303904\n",
      "      Debug: Off\n",
      "      Object Name: \n",
      "      Observers: \n",
      "        none\n",
      "      Pointer: 0x7f03bd4b1010\n",
      "      Container manages memory: true\n",
      "      Size: 157548544\n",
      "      Capacity: 157548544\n",
      "\n"
     ]
    }
   ],
   "source": [
    "print(image)"
   ]
  },
  {
   "cell_type": "code",
   "execution_count": 105,
   "metadata": {
    "collapsed": false
   },
   "outputs": [
    {
     "name": "stdout",
     "output_type": "stream",
     "text": [
      "True\n"
     ]
    }
   ],
   "source": [
    "print(all(range(2,5)))\n"
   ]
  },
  {
   "cell_type": "code",
   "execution_count": 80,
   "metadata": {
    "collapsed": false
   },
   "outputs": [],
   "source": [
    "sitk.Resample?"
   ]
  },
  {
   "cell_type": "code",
   "execution_count": 108,
   "metadata": {
    "collapsed": false,
    "scrolled": true
   },
   "outputs": [
    {
     "name": "stdout",
     "output_type": "stream",
     "text": [
      "Processing subject CU100010 at shrink factor 2\n",
      "Processing subject CU100023 at shrink factor 2\n"
     ]
    },
    {
     "ename": "KeyboardInterrupt",
     "evalue": "",
     "output_type": "error",
     "traceback": [
      "\u001b[1;31m---------------------------------------------------------------------------\u001b[0m",
      "\u001b[1;31mKeyboardInterrupt\u001b[0m                         Traceback (most recent call last)",
      "\u001b[1;32m<ipython-input-108-3a1f0b637c6f>\u001b[0m in \u001b[0;36m<module>\u001b[1;34m()\u001b[0m\n\u001b[0;32m     33\u001b[0m \u001b[1;33m\u001b[0m\u001b[0m\n\u001b[0;32m     34\u001b[0m             \u001b[0mreader\u001b[0m \u001b[1;33m=\u001b[0m \u001b[0msitk\u001b[0m\u001b[1;33m.\u001b[0m\u001b[0mImageSeriesReader\u001b[0m\u001b[1;33m(\u001b[0m\u001b[1;33m)\u001b[0m\u001b[1;33m\u001b[0m\u001b[0m\n\u001b[1;32m---> 35\u001b[1;33m             \u001b[0mreader\u001b[0m\u001b[1;33m.\u001b[0m\u001b[0mSetFileNames\u001b[0m\u001b[1;33m(\u001b[0m\u001b[0mreader\u001b[0m\u001b[1;33m.\u001b[0m\u001b[0mGetGDCMSeriesFileNames\u001b[0m\u001b[1;33m(\u001b[0m\u001b[0msubject_path\u001b[0m\u001b[1;33m)\u001b[0m\u001b[1;33m)\u001b[0m\u001b[1;33m\u001b[0m\u001b[0m\n\u001b[0m\u001b[0;32m     36\u001b[0m             \u001b[0mimage\u001b[0m \u001b[1;33m=\u001b[0m \u001b[0mreader\u001b[0m\u001b[1;33m.\u001b[0m\u001b[0mExecute\u001b[0m\u001b[1;33m(\u001b[0m\u001b[1;33m)\u001b[0m\u001b[1;33m\u001b[0m\u001b[0m\n\u001b[0;32m     37\u001b[0m \u001b[1;33m\u001b[0m\u001b[0m\n",
      "\u001b[1;32m/home/mostafa/anaconda3/lib/python3.5/site-packages/SimpleITK/SimpleITK.py\u001b[0m in \u001b[0;36mGetGDCMSeriesFileNames\u001b[1;34m(*args)\u001b[0m\n\u001b[0;32m   8278\u001b[0m         \u001b[0mGetGDCMSeriesFileNames\u001b[0m\u001b[1;33m(\u001b[0m\u001b[0mstd\u001b[0m\u001b[1;33m:\u001b[0m\u001b[1;33m:\u001b[0m\u001b[0mstring\u001b[0m \u001b[0mconst\u001b[0m \u001b[1;33m&\u001b[0m \u001b[0mdirectory\u001b[0m\u001b[1;33m,\u001b[0m \u001b[0mstd\u001b[0m\u001b[1;33m:\u001b[0m\u001b[1;33m:\u001b[0m\u001b[0mstring\u001b[0m \u001b[0mconst\u001b[0m \u001b[1;33m&\u001b[0m \u001b[0mseriesID\u001b[0m\u001b[1;33m,\u001b[0m \u001b[0mbool\u001b[0m \u001b[0museSeriesDetails\u001b[0m\u001b[1;33m=\u001b[0m\u001b[1;32mFalse\u001b[0m\u001b[1;33m,\u001b[0m \u001b[0mbool\u001b[0m \u001b[0mrecursive\u001b[0m\u001b[1;33m=\u001b[0m\u001b[1;32mFalse\u001b[0m\u001b[1;33m,\u001b[0m \u001b[0mbool\u001b[0m \u001b[0mloadSequences\u001b[0m\u001b[1;33m=\u001b[0m\u001b[1;32mFalse\u001b[0m\u001b[1;33m,\u001b[0m \u001b[0mbool\u001b[0m \u001b[0mloadPrivateTags\u001b[0m\u001b[1;33m=\u001b[0m\u001b[1;32mFalse\u001b[0m\u001b[1;33m)\u001b[0m \u001b[1;33m->\u001b[0m \u001b[0mVectorString\u001b[0m\u001b[1;33m\u001b[0m\u001b[0m\n\u001b[0;32m   8279\u001b[0m         \"\"\"\n\u001b[1;32m-> 8280\u001b[1;33m         \u001b[1;32mreturn\u001b[0m \u001b[0m_SimpleITK\u001b[0m\u001b[1;33m.\u001b[0m\u001b[0mImageSeriesReader_GetGDCMSeriesFileNames\u001b[0m\u001b[1;33m(\u001b[0m\u001b[1;33m*\u001b[0m\u001b[0margs\u001b[0m\u001b[1;33m)\u001b[0m\u001b[1;33m\u001b[0m\u001b[0m\n\u001b[0m\u001b[0;32m   8281\u001b[0m \u001b[1;33m\u001b[0m\u001b[0m\n\u001b[0;32m   8282\u001b[0m     \u001b[1;32mif\u001b[0m \u001b[0m_newclass\u001b[0m\u001b[1;33m:\u001b[0m\u001b[1;33m\u001b[0m\u001b[0m\n",
      "\u001b[1;31mKeyboardInterrupt\u001b[0m: "
     ]
    }
   ],
   "source": [
    "labels_path   = \"./Data/labels.csv\" \n",
    "series_path   = \"./Data/series/\"\n",
    "np_path       = \"./Data/np/\"\n",
    "shrink_factors= range(2, 4)\n",
    "ref_dim       = (602, 512, 512)\n",
    "\n",
    "\n",
    "for shrink_factor in shrink_factors:\n",
    "\n",
    "    entries = []\n",
    "    scale_factor  = 1/shrink_factor\n",
    "    out_dim = (int(ref_dim[0] * scale_factor), int(ref_dim[1] * scale_factor), int(ref_dim[2] * scale_factor))\n",
    "    \n",
    "    with open(labels_path, 'r') as csvfile:\n",
    "        csv_reader = csv.DictReader(csvfile, delimiter=',', quotechar='|')\n",
    "        for row in csv_reader:\n",
    "            record_id = row['record_id']\n",
    "            if row['emphysema'] != '':\n",
    "                emphysema = int(row['emphysema'])\n",
    "            else:\n",
    "                emphysema = 0\n",
    "\n",
    "            if row['bronchiectasis1'] != '':\n",
    "                bronchiectasis = int(row['bronchiectasis1'])\n",
    "            else:\n",
    "                bronchiectasis = 0\n",
    "            \n",
    "            print(\"Processing subject {0} at shrink factor {1}\".format(record_id, shrink_factor))\n",
    "            subject_path = series_path + record_id\n",
    "            if not os.path.isdir(subject_path):\n",
    "                print(\"Missing subject {0}\".format(subject_path))\n",
    "                continue\n",
    "\n",
    "            reader = sitk.ImageSeriesReader()\n",
    "            reader.SetFileNames(reader.GetGDCMSeriesFileNames(subject_path))\n",
    "            image = reader.Execute()\n",
    "\n",
    "            image = sitk.Shrink(image, [shrink_factor, shrink_factor, shrink_factor])\n",
    "\n",
    "            arr = pad_image(image, out_dim)\n",
    "            entries.append([arr, emphysema])\n",
    "        arr = np.array(entries)\n",
    "        print(\"Array size = {0} bytes\".format(getsizeof(arr)))\n",
    "        np.savez(np_path + 'data_' + str(shrink_factor)  , arr)\n",
    "        \n"
   ]
  },
  {
   "cell_type": "code",
   "execution_count": 62,
   "metadata": {
    "collapsed": false
   },
   "outputs": [],
   "source": [
    "def pad_image(image, target_dim):\n",
    "    arr = sitk.GetArrayFromImage(image)\n",
    "    \n",
    "    padding_map = []\n",
    "    for i in range(len(target_dim)):\n",
    "        padding_map.append( [0, max(0, target_dim[i] - arr.shape[i])] )\n",
    "        \n",
    "    x = np.pad(arr, padding_map, mode='constant',constant_values=0)\n",
    "    return np.int16(x)\n"
   ]
  },
  {
   "cell_type": "code",
   "execution_count": 48,
   "metadata": {
    "collapsed": false
   },
   "outputs": [
    {
     "name": "stdout",
     "output_type": "stream",
     "text": [
      "-3024\n"
     ]
    }
   ],
   "source": [
    "myFilter = BinaryThresholdImageFilter()\n",
    "myFilter.SetDebug(False)\n",
    "myFilter.SetInsideValue(1)\n",
    "myFilter.SetLowerThreshold(-1000.0)\n",
    "myFilter.SetNumberOfThreads(8)\n",
    "myFilter.SetOutsideValue(0)\n",
    "myFilter.SetUpperThreshold(-400.0)\n",
    "\n",
    "seed_left  = (116, 275, 300)\n",
    "seed_right = (261, 2  , 300)\n",
    "myFilter = NeighborhoodConnectedImageFilter()\n",
    "myFilter.SetDebug(False)\n",
    "myFilter.SetLower(1.0)\n",
    "myFilter.SetNumberOfThreads(8)\n",
    "myFilter.SetRadius((3, 3, 3))\n",
    "myFilter.SetReplaceValue(1.0)\n",
    "myFilter.SetSeedList((seed_left, seed_right))\n",
    "myFilter.SetUpper(1.0)\n",
    "\n",
    "\n",
    "myFilter = BinaryDilateImageFilter()\n",
    "myFilter.SetBackgroundValue(0.0)\n",
    "myFilter.SetBoundaryToForeground(False)\n",
    "myFilter.SetDebug(False)\n",
    "myFilter.SetForegroundValue(1.0)\n",
    "myFilter.SetKernelRadius((5, 5, 5))\n",
    "myFilter.SetKernelType(1)\n",
    "myFilter.SetNumberOfThreads(8)\n",
    "\n",
    "myFilter = BinaryErodeImageFilter()\n",
    "myFilter.SetBackgroundValue(0.0)\n",
    "myFilter.SetBoundaryToForeground(True)\n",
    "myFilter.SetDebug(False)\n",
    "myFilter.SetForegroundValue(1.0)\n",
    "myFilter.SetKernelRadius((5, 5, 5))\n",
    "myFilter.SetKernelType(1)\n",
    "myFilter.SetNumberOfThreads(8)\n"
   ]
  }
 ],
 "metadata": {
  "anaconda-cloud": {},
  "kernelspec": {
   "display_name": "Python [Root]",
   "language": "python",
   "name": "Python [Root]"
  },
  "language_info": {
   "codemirror_mode": {
    "name": "ipython",
    "version": 3
   },
   "file_extension": ".py",
   "mimetype": "text/x-python",
   "name": "python",
   "nbconvert_exporter": "python",
   "pygments_lexer": "ipython3",
   "version": "3.5.2"
  }
 },
 "nbformat": 4,
 "nbformat_minor": 0
}
