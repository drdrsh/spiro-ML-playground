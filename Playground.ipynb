{
 "cells": [
  {
   "cell_type": "code",
   "execution_count": null,
   "metadata": {
    "collapsed": false
   },
   "outputs": [],
   "source": [
    "import tensorflow as tf\n",
    "import numpy as np\n",
    "import Dataset\n",
    "from convnet import *\n",
    "\n",
    "%load_ext autoreload\n",
    "%autoreload 2"
   ]
  },
  {
   "cell_type": "code",
   "execution_count": null,
   "metadata": {
    "collapsed": false
   },
   "outputs": [],
   "source": [
    "#Testing TF GPU Support\n",
    "\n",
    "# Creates a graph.\n",
    "a = tf.constant([1.0, 2.0, 3.0, 4.0, 5.0, 6.0], shape=[2, 3], name='a')\n",
    "b = tf.constant([1.0, 2.0, 3.0, 4.0, 5.0, 6.0], shape=[3, 2], name='b')\n",
    "c = tf.matmul(a, b)\n",
    "# Creates a session with log_device_placement set to True.\n",
    "test_sess = tf.Session(config=tf.ConfigProto(log_device_placement=True))\n",
    "# Runs the op.\n",
    "print(test_sess.run(c))\n",
    "test_sess.close()"
   ]
  },
  {
   "cell_type": "code",
   "execution_count": null,
   "metadata": {
    "collapsed": false
   },
   "outputs": [],
   "source": [
    "sess = None\n",
    "data_manager = Dataset.DatasetManager('./Data/np/7/', target_shape=(96, 96 ,96))\n",
    "\n",
    "ds = data_manager.get_current_dataset()\n",
    "\n",
    "\n",
    "# Network Parameters\n",
    "data_shape = [ds.original_X_shape[1], ds.original_X_shape[2], ds.original_X_shape[3]]\n",
    "n_input = ds.original_X_shape[1] * ds.original_X_shape[2] * ds.original_X_shape[3]   # Input size\n",
    "n_classes = 2     # Classes (No Emphysema, Emphysema)\n",
    "dropout = 0.75    # Dropout, probability to keep units\n",
    "\n",
    "# Parameters\n",
    "learning_rate = 0.001\n",
    "training_iters = 200000\n",
    "batch_size = 3\n",
    "display_step = 10\n",
    "\n",
    "# tf Graph input\n",
    "x = tf.placeholder(tf.float32, [None, n_input])\n",
    "y = tf.placeholder(tf.float32, [None, n_classes])\n",
    "keep_prob = tf.placeholder(tf.float32) #dropout (keep probability)"
   ]
  },
  {
   "cell_type": "code",
   "execution_count": null,
   "metadata": {
    "collapsed": false
   },
   "outputs": [],
   "source": [
    "# Number of neurons = Output Volume Size \n",
    "# Number of biases = 1 Per neuron\n",
    "# Number of Bias terms = Number of Filters \n",
    "# Number of weights = FilterWidth*Fitlerheight*FiltherDepth*InputColors\n",
    "# Output Volume Size = (FilterWidth * padding * padding )\n",
    "\n",
    "# Store layers weight & bias\n",
    "weights = {\n",
    "    # Filter Width, Filter Height, Filter Slices, Filter Depth (Image channels), Filter Count\n",
    "\n",
    "    # 96 Filters of shape 5x5x5x1\n",
    "    'wc1': tf.Variable(tf.random_normal([5, 5, 5, 1, 12])),\n",
    "    \n",
    "    # Due to padding the output size remains the same @ 96x96x96x1\n",
    "    # maxpool3d with k = 2 and stride= 2\n",
    "    # Output of maxpool3d = ( (96-2)/2 )  + 1 = 48\n",
    "    # Output volume 48x48x48x96 (Filter number remains the same after maxpooling)\n",
    "    \n",
    "    # 48 Filters of shape 5x5x5x96\n",
    "    'wc2': tf.Variable(tf.random_normal([5, 5, 5, 12, 12])),\n",
    "    \n",
    "    # fully connected, 7*7*48 inputs, 256 outputs\n",
    "    'wd1': tf.Variable(tf.random_normal([6*6*6*12, 256])),\n",
    "    # 256 inputs, 2 outputs (class prediction)\n",
    "    'out': tf.Variable(tf.random_normal([256, n_classes]))\n",
    "}\n",
    "\n",
    "\n",
    "biases = {\n",
    "    'bc1': tf.Variable(tf.random_normal([12])),\n",
    "    'bc2': tf.Variable(tf.random_normal([12])),\n",
    "    'bd1': tf.Variable(tf.random_normal([256])),\n",
    "    'out': tf.Variable(tf.random_normal([n_classes]))\n",
    "}\n",
    "\n",
    "# Construct model\n",
    "pred = conv_net(x, data_shape, weights, biases, keep_prob)\n",
    "\n",
    "# Define loss and optimizer\n",
    "cost = tf.reduce_mean(tf.nn.softmax_cross_entropy_with_logits(pred, y))\n",
    "optimizer = tf.train.AdamOptimizer(learning_rate=learning_rate).minimize(cost)\n",
    "\n",
    "# Evaluate model\n",
    "correct_pred = tf.equal(tf.argmax(pred, 1), tf.argmax(y, 1))\n",
    "accuracy = tf.reduce_mean(tf.cast(correct_pred, tf.float32))\n",
    "\n",
    "# Initializing the variables\n",
    "init = tf.initialize_all_variables()\n",
    "\n",
    "if sess:\n",
    "    sess.close()\n",
    "    \n",
    "sess = tf.Session()"
   ]
  },
  {
   "cell_type": "code",
   "execution_count": null,
   "metadata": {
    "collapsed": false
   },
   "outputs": [],
   "source": [
    "# Launch the graph\n",
    "with sess:\n",
    "    sess.run(init)\n",
    "    step = 1\n",
    "    # Keep training until reach max iterations\n",
    "    while step * batch_size < training_iters:\n",
    "        batch_x, batch_y = data_manager.next_batch(batch_size)\n",
    "        # Run optimization op (backprop)\n",
    "        sess.run(optimizer, feed_dict={x: batch_x, y: batch_y,\n",
    "                                       keep_prob: dropout})\n",
    "        \n",
    "        if step % display_step == 0:\n",
    "            # Calculate batch loss and accuracy\n",
    "            loss, acc = sess.run([cost, accuracy], feed_dict={x: batch_x,\n",
    "                                                              y: batch_y,\n",
    "                                                              keep_prob: 1.})\n",
    "            print( \"Iter \" + str(step*batch_size) + \", Minibatch Loss= \" + \\\n",
    "                  \"{:.6f}\".format(loss) + \", Training Accuracy= \" + \\\n",
    "                  \"{:.5f}\".format(acc))\n",
    "        step += 1\n",
    "    print(\"Optimization Finished!\")\n",
    "\n",
    "    # Calculate accuracy for 256 mnist test images\n",
    "    #print \"Testing Accuracy:\", \\\n",
    "    #    sess.run(accuracy, feed_dict={x: mnist.test.images[:256],\n",
    "    #                                  y: mnist.test.labels[:256],\n",
    "    #                                  keep_prob: 1.})\n",
    "\n"
   ]
  }
 ],
 "metadata": {
  "anaconda-cloud": {},
  "kernelspec": {
   "display_name": "Python [Root]",
   "language": "python",
   "name": "Python [Root]"
  }
 },
 "nbformat": 4,
 "nbformat_minor": 0
}
